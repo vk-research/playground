{
 "cells": [
  {
   "cell_type": "markdown",
   "metadata": {},
   "source": [
    "Понимаем сленг с word2vec\n",
    "======"
   ]
  },
  {
   "cell_type": "code",
   "execution_count": 1,
   "metadata": {
    "collapsed": false
   },
   "outputs": [
    {
     "name": "stderr",
     "output_type": "stream",
     "text": [
      "Using gpu device 3: GeForce GTX TITAN X (CNMeM is enabled with initial size: 80.0% of memory, cuDNN 5005)\n"
     ]
    }
   ],
   "source": [
    "from gensim.models import Word2Vec\n",
    "from gensim.matutils import unitvec\n",
    "import numpy as np\n",
    "import pandas as pd\n",
    "from vkml.toolkit import tokenize"
   ]
  },
  {
   "cell_type": "markdown",
   "metadata": {},
   "source": [
    "Загрузим векторы слов, обученный на корпусе постов и комментариев с открытых стен пабликов. Набор векторов пока публично не доступен."
   ]
  },
  {
   "cell_type": "code",
   "execution_count": 2,
   "metadata": {
    "collapsed": true
   },
   "outputs": [],
   "source": [
    "MODEL_FILENAME = \"/d3/models/w2v.model\""
   ]
  },
  {
   "cell_type": "code",
   "execution_count": 3,
   "metadata": {
    "collapsed": true
   },
   "outputs": [],
   "source": [
    "MEDUZA_TEST = \"./meduza_test.csv\""
   ]
  },
  {
   "cell_type": "code",
   "execution_count": 4,
   "metadata": {
    "collapsed": false
   },
   "outputs": [],
   "source": [
    "word_model = Word2Vec.load(MODEL_FILENAME)"
   ]
  },
  {
   "cell_type": "markdown",
   "metadata": {},
   "source": [
    "Классический тест:"
   ]
  },
  {
   "cell_type": "code",
   "execution_count": 5,
   "metadata": {
    "collapsed": false
   },
   "outputs": [
    {
     "data": {
      "text/plain": [
       "[('королева', 0.595596194267273)]"
      ]
     },
     "execution_count": 5,
     "metadata": {},
     "output_type": "execute_result"
    }
   ],
   "source": [
    "word_model.most_similar(positive=[\"женщина\", \"король\"], negative=[\"мужчина\"], topn=1)"
   ]
  },
  {
   "cell_type": "code",
   "execution_count": 6,
   "metadata": {
    "collapsed": false
   },
   "outputs": [
    {
     "data": {
      "text/plain": [
       "[('лондон', 0.7713751792907715)]"
      ]
     },
     "execution_count": 6,
     "metadata": {},
     "output_type": "execute_result"
    }
   ],
   "source": [
    "word_model.most_similar(positive=[\"англия\", \"париж\"], negative=[\"франция\"], topn=1)"
   ]
  },
  {
   "cell_type": "markdown",
   "metadata": {},
   "source": [
    "Попробуем ответить на [тест Медузы про сленг](https://meduza.io/quiz/kek-ili-zatascheno):"
   ]
  },
  {
   "cell_type": "code",
   "execution_count": 7,
   "metadata": {
    "collapsed": false
   },
   "outputs": [],
   "source": [
    "df = pd.read_csv(MEDUZA_TEST, encoding=\"utf-8\")"
   ]
  },
  {
   "cell_type": "markdown",
   "metadata": {},
   "source": [
    "Заменили \"затащено\" на \"затащила\", так как \"затащено\" не оказалось в словаре -____- "
   ]
  },
  {
   "cell_type": "code",
   "execution_count": 8,
   "metadata": {
    "collapsed": false
   },
   "outputs": [
    {
     "data": {
      "text/html": [
       "<div>\n",
       "<table border=\"1\" class=\"dataframe\">\n",
       "  <thead>\n",
       "    <tr style=\"text-align: right;\">\n",
       "      <th></th>\n",
       "      <th>q</th>\n",
       "      <th>a0</th>\n",
       "      <th>a1</th>\n",
       "      <th>a2</th>\n",
       "    </tr>\n",
       "  </thead>\n",
       "  <tbody>\n",
       "    <tr>\n",
       "      <th>0</th>\n",
       "      <td>изи катка</td>\n",
       "      <td>чудовищно</td>\n",
       "      <td>все было просто</td>\n",
       "      <td>иди к черту, отстань со своими расспросами</td>\n",
       "    </tr>\n",
       "    <tr>\n",
       "      <th>1</th>\n",
       "      <td>приятный</td>\n",
       "      <td>сасный</td>\n",
       "      <td>хэндси</td>\n",
       "      <td>кронги</td>\n",
       "    </tr>\n",
       "    <tr>\n",
       "      <th>2</th>\n",
       "      <td>агриться</td>\n",
       "      <td>злиться</td>\n",
       "      <td>cоглашаться</td>\n",
       "      <td>как говорится</td>\n",
       "    </tr>\n",
       "    <tr>\n",
       "      <th>3</th>\n",
       "      <td>я хотел с ней встречаться, но она меня</td>\n",
       "      <td>закрыла</td>\n",
       "      <td>занойзила</td>\n",
       "      <td>отправила во френдзону</td>\n",
       "    </tr>\n",
       "    <tr>\n",
       "      <th>4</th>\n",
       "      <td>затащила</td>\n",
       "      <td>на физкультуре одноклассница в одиночку спасла...</td>\n",
       "      <td>одноклассник пришел в старой и немодной одежде.</td>\n",
       "      <td>запущено</td>\n",
       "    </tr>\n",
       "    <tr>\n",
       "      <th>5</th>\n",
       "      <td>тян и кун</td>\n",
       "      <td>кое-что не совсем приличное</td>\n",
       "      <td>подтягивания и отжимания</td>\n",
       "      <td>девушка и парень</td>\n",
       "    </tr>\n",
       "    <tr>\n",
       "      <th>6</th>\n",
       "      <td>объясни, почему ты носишь одежду этой марки?</td>\n",
       "      <td>ответь за прикид</td>\n",
       "      <td>поясни за шмот</td>\n",
       "      <td>проясни эмблему</td>\n",
       "    </tr>\n",
       "  </tbody>\n",
       "</table>\n",
       "</div>"
      ],
      "text/plain": [
       "                                              q  \\\n",
       "0                                     изи катка   \n",
       "1                                      приятный   \n",
       "2                                      агриться   \n",
       "3        я хотел с ней встречаться, но она меня   \n",
       "4                                      затащила   \n",
       "5                                     тян и кун   \n",
       "6  объясни, почему ты носишь одежду этой марки?   \n",
       "\n",
       "                                                  a0  \\\n",
       "0                                          чудовищно   \n",
       "1                                             сасный   \n",
       "2                                            злиться   \n",
       "3                                            закрыла   \n",
       "4  на физкультуре одноклассница в одиночку спасла...   \n",
       "5                        кое-что не совсем приличное   \n",
       "6                                   ответь за прикид   \n",
       "\n",
       "                                                a1  \\\n",
       "0                                  все было просто   \n",
       "1                                           хэндси   \n",
       "2                                      cоглашаться   \n",
       "3                                        занойзила   \n",
       "4  одноклассник пришел в старой и немодной одежде.   \n",
       "5                         подтягивания и отжимания   \n",
       "6                                   поясни за шмот   \n",
       "\n",
       "                                           a2  \n",
       "0  иди к черту, отстань со своими расспросами  \n",
       "1                                      кронги  \n",
       "2                               как говорится  \n",
       "3                      отправила во френдзону  \n",
       "4                                    запущено  \n",
       "5                            девушка и парень  \n",
       "6                             проясни эмблему  "
      ]
     },
     "execution_count": 8,
     "metadata": {},
     "output_type": "execute_result"
    }
   ],
   "source": [
    "df"
   ]
  },
  {
   "cell_type": "markdown",
   "metadata": {},
   "source": [
    "Достаточно среднего вектора слов в предложении:"
   ]
  },
  {
   "cell_type": "code",
   "execution_count": 9,
   "metadata": {
    "collapsed": true
   },
   "outputs": [],
   "source": [
    "def get_word_vector(sentence_tokens):\n",
    "    vectors_available = [word for word in sentence_tokens if word in word_model.vocab]\n",
    "    result = np.zeros((word_model.vector_size))\n",
    "    if len(vectors_available) > 0:\n",
    "        result = np.mean([word_model[word] for word in vectors_available], axis=0)\n",
    "    return result"
   ]
  },
  {
   "cell_type": "markdown",
   "metadata": {},
   "source": [
    "Варианты ответов сортирутся по косинусной близости:"
   ]
  },
  {
   "cell_type": "code",
   "execution_count": 10,
   "metadata": {
    "collapsed": true
   },
   "outputs": [],
   "source": [
    "def get_sorted_answers(question, answers):\n",
    "    question_vector = get_word_vector(tokenize(question))\n",
    "    result = []\n",
    "    for a in answers:\n",
    "        answer_vector = get_word_vector(tokenize(a))\n",
    "        similarity = np.dot(unitvec(answer_vector), unitvec(question_vector))\n",
    "        result.append((a, similarity))\n",
    "    return sorted(result, key=lambda x: -x[1])"
   ]
  },
  {
   "cell_type": "code",
   "execution_count": 11,
   "metadata": {
    "collapsed": false
   },
   "outputs": [],
   "source": [
    "def print_result(question, sorted_answers):\n",
    "    print(question)\n",
    "    for i, (answer, score) in enumerate(sorted_answers):\n",
    "        print(\"{}. {:04.2f}: {}\".format(i + 1, score, answer))\n",
    "    print(\"-\" * 20)"
   ]
  },
  {
   "cell_type": "code",
   "execution_count": 12,
   "metadata": {
    "collapsed": false
   },
   "outputs": [
    {
     "name": "stdout",
     "output_type": "stream",
     "text": [
      "изи катка\n",
      "1. 0.07: все было просто\n",
      "2. 0.01: иди к черту, отстань со своими расспросами\n",
      "3. -0.06: чудовищно\n",
      "--------------------\n",
      "приятный\n",
      "1. 0.35: сасный\n",
      "2. 0.00: хэндси\n",
      "3. 0.00: кронги\n",
      "--------------------\n",
      "агриться\n",
      "1. 0.68: злиться\n",
      "2. 0.11: как говорится\n",
      "3. 0.00: cоглашаться\n",
      "--------------------\n",
      "я хотел с ней встречаться, но она меня\n",
      "1. 0.16: отправила во френдзону\n",
      "2. 0.04: закрыла\n",
      "3. 0.00: занойзила\n",
      "--------------------\n",
      "затащила\n",
      "1. 0.28: на физкультуре одноклассница в одиночку спасла баскетбольный матч.\n",
      "2. 0.07: одноклассник пришел в старой и немодной одежде.\n",
      "3. 0.04: запущено\n",
      "--------------------\n",
      "тян и кун\n",
      "1. 0.62: девушка и парень\n",
      "2. 0.42: кое-что не совсем приличное\n",
      "3. 0.34: подтягивания и отжимания\n",
      "--------------------\n",
      "объясни, почему ты носишь одежду этой марки?\n",
      "1. 0.33: поясни за шмот\n",
      "2. 0.30: ответь за прикид\n",
      "3. 0.16: проясни эмблему\n",
      "--------------------\n"
     ]
    }
   ],
   "source": [
    "for i, test_row in df.iterrows():\n",
    "    question = test_row[\"q\"]\n",
    "    answers = [test_row[\"a{}\".format(j)] for j in range(3)]\n",
    "    sorted_answers = get_sorted_answers(question, answers)\n",
    "    print_result(question, sorted_answers)"
   ]
  },
  {
   "cell_type": "markdown",
   "metadata": {},
   "source": [
    "Один из вопросов - выбрать неподходящее слово из трех. Легко:"
   ]
  },
  {
   "cell_type": "code",
   "execution_count": 13,
   "metadata": {
    "collapsed": false
   },
   "outputs": [
    {
     "data": {
      "text/plain": [
       "'мур'"
      ]
     },
     "execution_count": 13,
     "metadata": {},
     "output_type": "execute_result"
    }
   ],
   "source": [
    "word_model.doesnt_match([\"мур\", \"лол\", \"кек\"])"
   ]
  },
  {
   "cell_type": "markdown",
   "metadata": {},
   "source": [
    "8/8, затащено!"
   ]
  }
 ],
 "metadata": {
  "kernelspec": {
   "display_name": "Python 3",
   "language": "python",
   "name": "python3"
  },
  "language_info": {
   "codemirror_mode": {
    "name": "ipython",
    "version": 3
   },
   "file_extension": ".py",
   "mimetype": "text/x-python",
   "name": "python",
   "nbconvert_exporter": "python",
   "pygments_lexer": "ipython3",
   "version": "3.5.2"
  }
 },
 "nbformat": 4,
 "nbformat_minor": 0
}
